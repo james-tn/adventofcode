{
  "cells": [
    {
      "cell_type": "code",
      "source": [
        "from typing import List\n",
        "import matplotlib.pyplot as plt\n",
        "import random\n",
        "import copy\n",
        "import numpy as np\n",
        "class Position:\n",
        "    def __init__(self, x,y):\n",
        "        self.x = x\n",
        "        self.y=y\n",
        "class Elf(Position):\n",
        "    def step(self,direction:str):\n",
        "        self.prev = (self.x, self.y)\n",
        "        if direction ==\"up\":\n",
        "            self.x += -1\n",
        "        elif direction ==\"down\":\n",
        "            self.x += 1\n",
        "        elif direction ==\"left\":\n",
        "            self.y += -1\n",
        "        elif direction ==\"right\":\n",
        "            self.y += 1\n",
        "    def backup(self):\n",
        "        self.x, self.y = self.prev\n",
        "class Environment:\n",
        "    def __init__(self, entrance=None,file_path=\"day24/input.txt\", elf =None):\n",
        "        with open(file_path,\"r\") as file:\n",
        "            lines = file.readlines()\n",
        "        raw_data = [line.strip() for line in lines]\n",
        "        raw_temp =[]\n",
        "        for line in raw_data:\n",
        "            temp = []\n",
        "            for element in line:\n",
        "                temp.append(element)\n",
        "            raw_temp.append(temp)\n",
        "        raw_data = np.array(raw_temp)\n",
        "        inner_data = raw_data[1:raw_data.shape[0]-1,1:raw_data.shape[1]-1]\n",
        "        outer_data = np.where(raw_data==\"#\", 1, 0 )\n",
        "        if not elf:\n",
        "            self.elf = Elf(0, 1)\n",
        "        else:\n",
        "            self.elf = Elf(elf[0], elf[1])\n",
        "        outer_data[self.elf.x,self.elf.y] = 0\n",
        "\n",
        "        if not entrance:\n",
        "            self.entrance = outer_data.shape[0]-1,outer_data.shape[1]-2\n",
        "\n",
        "        else:\n",
        "            self.entrance = entrance\n",
        "        outer_data[self.entrance[0],self.entrance[1]] =-1\n",
        "\n",
        "        self.outer_data = outer_data\n",
        "        self.left_data = np.where(inner_data==\"<\", 2, 0 )\n",
        "        self.right_data = np.where(inner_data==\">\",4, 0)\n",
        "        self.up_data = np.where(inner_data==\"^\",3, 0)\n",
        "        self.down_data = np.where(inner_data==\"v\",5, 0)\n",
        "        self.time =0\n",
        "        self.game_status = \"active\"\n",
        "    def check_status(self):\n",
        "        data = self.get_data()\n",
        "        if (self.elf.x, self.elf.y) == self.entrance:\n",
        "            return 1\n",
        "        if self.elf.x >= data.shape[0]-1 or self.elf.y >= data.shape[1]-1 or self.elf.x <0 or self.elf.y <0:\n",
        "            return -1\n",
        "        value = data[self.elf.x][self.elf.y]\n",
        "        if value == -1:\n",
        "            return 1\n",
        "        elif value ==0:\n",
        "            return 0\n",
        "        else: return -1\n",
        "        \n",
        "    def get_data(self):\n",
        "        re_inner_data = self.left_data+self.right_data+self.up_data + self.down_data\n",
        "        re_inner_data = np.pad(re_inner_data,1,constant_values=0)\n",
        "        return re_inner_data + self.outer_data\n",
        "    def progress_env(self, n_steps, reset_state=False):\n",
        "        # print(\"progress received n_steps \", n_steps, \"reset_state \", reset_state, \" time \", self.time )\n",
        "\n",
        "\n",
        "        if not reset_state:\n",
        "            self.time += n_steps\n",
        "            roll_steps = n_steps\n",
        "        else:\n",
        "            roll_steps = n_steps- self.time\n",
        "            self.time = n_steps\n",
        "        self.left_data =np.roll(self.left_data,-roll_steps,axis =1)\n",
        "        self.right_data =np.roll(self.right_data,roll_steps,axis =1)\n",
        "        self.up_data =np.roll(self.up_data,-roll_steps,axis =0)\n",
        "        self.down_data =np.roll(self.down_data,roll_steps,axis =0)\n",
        "        # assert self.check_status() >=0, str(self.elf.x) + \" \" + str(self.elf.y) + \" \" + str(hash(str(env.get_data()))) + \" time \" + str(self.time)\n",
        "\n",
        "    def backup(self):\n",
        "\n",
        "        self.elf.backup()\n",
        "        # print(\"call progress_env at backup\")\n",
        "        self.progress_env(-1)\n",
        "\n",
        "    def step(self,direction) -> int:\n",
        "        # print(\"call progress at step\")\n",
        "        self.progress_env(1)\n",
        "        self.elf.step(direction)\n",
        "        if self.check_status() <0:\n",
        "            self.game_status = \"over\"\n",
        "            return -1\n",
        "        elif self.check_status() >0:\n",
        "            self.game_status = \"done\"\n",
        "            return 1\n",
        "        else: \n",
        "            self.game_status = \"active\"\n",
        "            return 0\n",
        "    def printout(self):\n",
        "        data = self.get_data()\n",
        "        i=0\n",
        "        for row in data:\n",
        "            j=0\n",
        "            print()\n",
        "            for item in row:\n",
        "                if (i,j) == (self.elf.x,self.elf.y):\n",
        "                    if item!=0:\n",
        "                        print(\"X\", end=\"\")\n",
        "                    else:\n",
        "                        print(\"E\", end=\"\")\n",
        "                else:\n",
        "                    if item==1:\n",
        "                        print('#', end=\"\")\n",
        "                    elif item==0 or item ==-1:\n",
        "                        print(\".\", end=\"\")\n",
        "                    elif item == 2:\n",
        "                        print(\"<\", end=\"\")\n",
        "                    elif item == 4:\n",
        "                        print(\">\", end=\"\")\n",
        "                    elif item == 3:\n",
        "                        print(\"^\", end=\"\")\n",
        "                    elif item == 5:\n",
        "                        print(\"v\", end=\"\")\n",
        "                    else:\n",
        "                        print(\"&\", end=\"\")\n",
        "                j += 1\n",
        "            i += 1\n",
        "\n",
        "    def clone(self):\n",
        "        env = copy.deepcopy(self)\n",
        "        return env\n"
      ],
      "outputs": [],
      "execution_count": 1,
      "metadata": {
        "gather": {
          "logged": 1672701447131
        }
      }
    },
    {
      "attachments": {},
      "cell_type": "markdown",
      "source": [
        "Dijkstras implementation"
      ],
      "metadata": {}
    },
    {
      "cell_type": "code",
      "source": [
        "import queue\r\n",
        "\r\n",
        "# Breadth First Search #\r\n",
        "# visited_set\r\n",
        "# parent_map: {node: (parent, actions)}\r\n",
        "# Queue q\r\n",
        "# starting position\r\n",
        "# v = starting position\r\n",
        "# q.enqueue(starting_position)\r\n",
        "# while q not empty():\r\n",
        "# v = q.dequeue()\r\n",
        "# if v is the goal then return v\r\n",
        "# adjancent_nodes, actions = get_adjancent_nodes(v)\r\n",
        "# for each node in adjancent_nodes:\r\n",
        "    # if node is not in visited_set:\r\n",
        "        #q.enqueue(node)\r\n",
        "        # node.parent = v\r\n",
        "        # node.parent_actions = actions\r\n",
        "        # visited_set.add(node)\r\n",
        "def test_action(action, env):\r\n",
        "        reward = env.step(action)\r\n",
        "        status = env.check_status()\r\n",
        "        x,y, time = env.elf.x, env.elf.y, env.time\r\n",
        "        env_state = hash(str(env.get_data()))\r\n",
        "        env.backup()\r\n",
        "\r\n",
        "        return reward >= 0, (x,y,env_state, time)\r\n",
        "def get_adjacents(node, env):\r\n",
        "    \r\n",
        "    output=[]\r\n",
        "    ok_actions =[]\r\n",
        "    env_hash = hash(str(env.get_data()))\r\n",
        "    node_id = (node[0], node[1], env_hash)\r\n",
        "    for action in [\"wait\", \"up\",\"down\", \"left\", \"right\"]:\r\n",
        "        result = test_action(action, env)\r\n",
        "        if result[0]:\r\n",
        "            output.append((result[1][0],result[1][1],result[1][2],result[1][3],[action]))\r\n",
        "            ok_actions.append(action)\r\n",
        "    waits=[]\r\n",
        "    wait_count =0\r\n",
        "    env.progress_env(-wait_count) #reverse environment back\r\n",
        "\r\n",
        "    return output\r\n",
        "def find_shortest_path(file_path=\"day24/input.txt\",starting_time=0, starting_position=(0,1), entrance = (21,150)):\r\n",
        "    dead_nodes = []\r\n",
        "    visited_nodes = set()\r\n",
        "\r\n",
        "    q = queue.Queue()\r\n",
        "\r\n",
        "\r\n",
        "    env = Environment(file_path=file_path,entrance=entrance, elf=starting_position)\r\n",
        "    env.progress_env(starting_time,)\r\n",
        "\r\n",
        "    data = env.get_data()\r\n",
        "\r\n",
        "\r\n",
        "    parent_map = {}\r\n",
        "    env_hash = hash(str(env.get_data()))\r\n",
        "    starting_node = ((starting_position[0], starting_position[1], env_hash),starting_time)\r\n",
        "    q.put(starting_node)\r\n",
        "    solutions = []\r\n",
        "    while not q.empty():\r\n",
        "        node = q.get()\r\n",
        "        # print(node)\r\n",
        "        if (node[0][0], node[0][1]) == entrance:\r\n",
        "            ##handle retrieving\r\n",
        "            print(\"solution found\")\r\n",
        "            actions = []\r\n",
        "            node_id = (node[0][0], node[0][1], node[0][2])\r\n",
        "            while True:\r\n",
        "                parent = parent_map.get(node_id,\"\")\r\n",
        "                if parent !=\"\":\r\n",
        "                    node_id = parent[0]\r\n",
        "                    actions = parent[1] + actions\r\n",
        "                    if node_id == (starting_position[0], starting_position[1], env_hash):\r\n",
        "                        break\r\n",
        "            solutions.append(actions)\r\n",
        "        \r\n",
        "\r\n",
        "        \r\n",
        "        env.elf.x, env.elf.y = node[0][0],node[0][1] #update elf position for environment\r\n",
        "        time = node[1]\r\n",
        "        env.progress_env(time) #update the environment progress\r\n",
        "        assert env.check_status() >= 0, \"time \" + str(time)  + \" x, y \" + str(env.elf.x) + \" \" + str(env.elf.y)\r\n",
        "        adjacent_items = get_adjacents(node, env)\r\n",
        "\r\n",
        "        for adjacent_item in adjacent_items:\r\n",
        "            adjacent_node = (adjacent_item[0], adjacent_item[1],adjacent_item[2])\r\n",
        "            if adjacent_node not in visited_nodes:\r\n",
        "                visited_nodes.add(adjacent_node)\r\n",
        "                q.put((adjacent_node,adjacent_item[3]))\r\n",
        "                parent_map[adjacent_node]= (node[0],adjacent_item[4])\r\n",
        "    if len(solutions)>0:\r\n",
        "        solutions.sort(key = lambda x: len(x))\r\n",
        "        # print(\"actions \", solutions[0])\r\n",
        "        print(\"time \", len(solutions[0]))\r\n",
        "        return len(solutions[0])\r\n",
        "    else:\r\n",
        "        print(\"solution not found\")\r\n",
        "# stage1 = find_shortest_path(starting_time=0, starting_position=(0,1), entrance = (21,150))\r\n",
        "# print(\"stage 1 takes \",stage1)\r\n"
      ],
      "outputs": [],
      "execution_count": 8,
      "metadata": {
        "jupyter": {
          "source_hidden": false,
          "outputs_hidden": false
        },
        "nteract": {
          "transient": {
            "deleting": false
          }
        },
        "gather": {
          "logged": 1672705481890
        }
      }
    },
    {
      "cell_type": "code",
      "source": [
        "stage2 = find_shortest_path(starting_time=332, starting_position=(21,150), entrance = (0,1))\r\n",
        "print(\"stage 2 takes \",stage2)\r\n"
      ],
      "outputs": [
        {
          "output_type": "error",
          "ename": "AssertionError",
          "evalue": "time 332 x, y 21 150",
          "traceback": [
            "\u001b[0;31m---------------------------------------------------------------------------\u001b[0m",
            "\u001b[0;31mAssertionError\u001b[0m                            Traceback (most recent call last)",
            "Cell \u001b[0;32mIn [9], line 1\u001b[0m\n\u001b[0;32m----> 1\u001b[0m stage2 \u001b[38;5;241m=\u001b[39m \u001b[43mfind_shortest_path\u001b[49m\u001b[43m(\u001b[49m\u001b[43mstarting_time\u001b[49m\u001b[38;5;241;43m=\u001b[39;49m\u001b[38;5;241;43m332\u001b[39;49m\u001b[43m,\u001b[49m\u001b[43m \u001b[49m\u001b[43mstarting_position\u001b[49m\u001b[38;5;241;43m=\u001b[39;49m\u001b[43m(\u001b[49m\u001b[38;5;241;43m21\u001b[39;49m\u001b[43m,\u001b[49m\u001b[38;5;241;43m150\u001b[39;49m\u001b[43m)\u001b[49m\u001b[43m,\u001b[49m\u001b[43m \u001b[49m\u001b[43mentrance\u001b[49m\u001b[43m \u001b[49m\u001b[38;5;241;43m=\u001b[39;49m\u001b[43m \u001b[49m\u001b[43m(\u001b[49m\u001b[38;5;241;43m0\u001b[39;49m\u001b[43m,\u001b[49m\u001b[38;5;241;43m1\u001b[39;49m\u001b[43m)\u001b[49m\u001b[43m)\u001b[49m\n\u001b[1;32m      2\u001b[0m \u001b[38;5;28mprint\u001b[39m(\u001b[38;5;124m\"\u001b[39m\u001b[38;5;124mstage 2 takes \u001b[39m\u001b[38;5;124m\"\u001b[39m,stage2)\n",
            "Cell \u001b[0;32mIn [8], line 84\u001b[0m, in \u001b[0;36mfind_shortest_path\u001b[0;34m(file_path, starting_time, starting_position, entrance)\u001b[0m\n\u001b[1;32m     82\u001b[0m time \u001b[38;5;241m=\u001b[39m node[\u001b[38;5;241m1\u001b[39m]\n\u001b[1;32m     83\u001b[0m env\u001b[38;5;241m.\u001b[39mprogress_env(time) \u001b[38;5;66;03m#update the environment progress\u001b[39;00m\n\u001b[0;32m---> 84\u001b[0m \u001b[38;5;28;01massert\u001b[39;00m env\u001b[38;5;241m.\u001b[39mcheck_status() \u001b[38;5;241m>\u001b[39m\u001b[38;5;241m=\u001b[39m \u001b[38;5;241m0\u001b[39m, \u001b[38;5;124m\"\u001b[39m\u001b[38;5;124mtime \u001b[39m\u001b[38;5;124m\"\u001b[39m \u001b[38;5;241m+\u001b[39m \u001b[38;5;28mstr\u001b[39m(time)  \u001b[38;5;241m+\u001b[39m \u001b[38;5;124m\"\u001b[39m\u001b[38;5;124m x, y \u001b[39m\u001b[38;5;124m\"\u001b[39m \u001b[38;5;241m+\u001b[39m \u001b[38;5;28mstr\u001b[39m(env\u001b[38;5;241m.\u001b[39melf\u001b[38;5;241m.\u001b[39mx) \u001b[38;5;241m+\u001b[39m \u001b[38;5;124m\"\u001b[39m\u001b[38;5;124m \u001b[39m\u001b[38;5;124m\"\u001b[39m \u001b[38;5;241m+\u001b[39m \u001b[38;5;28mstr\u001b[39m(env\u001b[38;5;241m.\u001b[39melf\u001b[38;5;241m.\u001b[39my)\n\u001b[1;32m     85\u001b[0m adjacent_items \u001b[38;5;241m=\u001b[39m get_adjacents(node, env)\n\u001b[1;32m     87\u001b[0m \u001b[38;5;28;01mfor\u001b[39;00m adjacent_item \u001b[38;5;129;01min\u001b[39;00m adjacent_items:\n",
            "\u001b[0;31mAssertionError\u001b[0m: time 332 x, y 21 150"
          ]
        }
      ],
      "execution_count": 9,
      "metadata": {
        "jupyter": {
          "source_hidden": false,
          "outputs_hidden": false
        },
        "nteract": {
          "transient": {
            "deleting": false
          }
        },
        "gather": {
          "logged": 1672705483999
        }
      }
    },
    {
      "cell_type": "code",
      "source": [
        "stage3 = find_shortest_path(starting_time=332+stage2, starting_position=(0,1), entrance = (21,150))\r\n",
        "print(\"stage 3 takes \",stage3)\r\n",
        "print(\"total time for 3 trips \", 332+stage2+stage3)"
      ],
      "outputs": [],
      "execution_count": null,
      "metadata": {
        "jupyter": {
          "source_hidden": false,
          "outputs_hidden": false
        },
        "nteract": {
          "transient": {
            "deleting": false
          }
        },
        "gather": {
          "logged": 1672704487614
        }
      }
    },
    {
      "cell_type": "code",
      "source": [],
      "outputs": [],
      "execution_count": null,
      "metadata": {
        "jupyter": {
          "source_hidden": false,
          "outputs_hidden": false
        },
        "nteract": {
          "transient": {
            "deleting": false
          }
        }
      }
    },
    {
      "cell_type": "code",
      "source": [
        "import dataclasses\r\n",
        "import heapq\r\n",
        "import time\r\n",
        "from typing import Any, TypeAlias\r\n",
        "\r\n",
        "Point: TypeAlias = tuple[int, int]  # x, y. top-left is 0, 0.\r\n",
        "Blizzard: TypeAlias = tuple[Point, int]  # starting position, direction (0, 1, 2, 3 => north, east, south west)\r\n",
        "\r\n",
        "\r\n",
        "DELTAS = ((0, -1), (1, 0), (0, 1), (-1, 0))  # north, east, south, west\r\n",
        "\r\n",
        "\r\n",
        "def read_input_file(\r\n",
        "    file_name: str = \"input.txt\",\r\n",
        ") -> tuple[Point, Point, set[Blizzard], int, int]:  # start, end, blizzards, width, height\r\n",
        "    with open(file_name, \"r\") as f:\r\n",
        "        start: Point | None = None\r\n",
        "        end: Point | None = None\r\n",
        "        blizzards: set[Blizzard] = set()\r\n",
        "        for y, line in enumerate(f.readlines()):\r\n",
        "            if stripped_line := line.strip():\r\n",
        "                if (len(stripped_line) - 1) == stripped_line.count(\"#\"):\r\n",
        "                    if y == 0:\r\n",
        "                        assert start is None\r\n",
        "                        start = (stripped_line.index(\".\"), y)\r\n",
        "                    else:\r\n",
        "                        assert end is None\r\n",
        "                        end = (stripped_line.index(\".\"), y)\r\n",
        "                else:\r\n",
        "                    blizzards |= {\r\n",
        "                        ((x, y), {\"^\": 0, \">\": 1, \"v\": 2, \"<\": 3}[ch])\r\n",
        "                        for x, ch in enumerate(stripped_line)\r\n",
        "                        if ch in [\"^\", \">\", \"v\", \"<\"]\r\n",
        "                    }\r\n",
        "        assert start is not None and end is not None\r\n",
        "        return start, end, blizzards, len(stripped_line), y + 1\r\n",
        "\r\n",
        "\r\n",
        "def heuristic(source: Point, target: Point) -> int:\r\n",
        "    # a simple admissible heuristic for the cost of moving from `source` to `target` - Manhattan distance :)\r\n",
        "    return abs(source[0] - target[0]) + abs(source[1] - target[1])\r\n",
        "\r\n",
        "\r\n",
        "def add_points(point_a: Point, point_b: Point) -> Point:\r\n",
        "    return point_a[0] + point_b[0], point_a[1] + point_b[1]\r\n",
        "\r\n",
        "\r\n",
        "def apply_magnitude_to_point(point: Point, magnitude: int) -> Point:\r\n",
        "    return point[0] * magnitude, point[1] * magnitude\r\n",
        "\r\n",
        "\r\n",
        "@dataclasses.dataclass(frozen=True)\r\n",
        "class State:\r\n",
        "    h: int = dataclasses.field()  # cached heuristic\r\n",
        "    point: Point = dataclasses.field()\r\n",
        "    time: int = dataclasses.field()\r\n",
        "\r\n",
        "    # defining these for heapq usage\r\n",
        "    def __eq__(self, other: Any) -> bool:\r\n",
        "        return isinstance(other, State) and self.h == other.h and self.time == other.time\r\n",
        "\r\n",
        "    def __lt__(self, other: Any) -> bool:\r\n",
        "        return isinstance(other, State) and self.time < other.time\r\n",
        "\r\n",
        "\r\n",
        "def a_star_search(\r\n",
        "    start: Point, target: Point, blizzards: set[Blizzard], width: int, height: int, start_time: int = 0\r\n",
        ") -> list[State]:\r\n",
        "    # TODO: could reuse `computed_blizzard_movements` between `a_star_search` calls. don't really feel like it atm tho.\r\n",
        "    computed_blizzard_movements: dict[int, set[Point]] = {}  # where the blizzard will be at some time\r\n",
        "    previous_points: dict[State, State] = {}\r\n",
        "\r\n",
        "    def is_point_within_map(point: Point) -> bool:\r\n",
        "        return (0 < point[0] < (width - 1) and 0 < point[1] < (height - 1)) or point in [start, target]\r\n",
        "\r\n",
        "    def move_blizzard(point: Point, direction: int, time_steps: int) -> Point:\r\n",
        "        # calculate how far the blizzard moves between t=0 and t=`time_steps`, then clamp it to the allowable board area\r\n",
        "        new_point = add_points(point, apply_magnitude_to_point(DELTAS[direction], time_steps))\r\n",
        "        clamped_point = ((new_point[0] - 1) % (width - 2) + 1), ((new_point[1] - 1) % (height - 2) + 1)\r\n",
        "        return clamped_point\r\n",
        "\r\n",
        "    def possible_moves(state: State) -> list[State]:\r\n",
        "        new_time = state.time + 1\r\n",
        "        if (blizzard_positions_at_time := computed_blizzard_movements.get(new_time, None)) is None:\r\n",
        "            # blizzards have not yet been computed for this time step - compute and store them\r\n",
        "            blizzard_positions_at_time = {\r\n",
        "                move_blizzard(point=blizzard_point, direction=blizzard_direction, time_steps=new_time)\r\n",
        "                for (blizzard_point, blizzard_direction) in blizzards\r\n",
        "            }\r\n",
        "            computed_blizzard_movements[new_time] = blizzard_positions_at_time\r\n",
        "\r\n",
        "        return [\r\n",
        "            State(point=p, time=new_time, h=heuristic(p, target))\r\n",
        "            for p in [*[add_points(state.point, delta) for delta in DELTAS], state.point]\r\n",
        "            if is_point_within_map(p) and p not in blizzard_positions_at_time\r\n",
        "        ]\r\n",
        "\r\n",
        "    def reconstruct_path(point: State) -> list[State]:\r\n",
        "        if point in previous_points.keys():\r\n",
        "            return [point] + reconstruct_path(previous_points[point])\r\n",
        "        return [point]\r\n",
        "\r\n",
        "    frontier: list[State] = []\r\n",
        "    start_state = State(point=start, h=heuristic(start, target), time=start_time)\r\n",
        "    heapq.heappush(frontier, start_state)\r\n",
        "    g_score: dict[State, int] = {start_state: 0}\r\n",
        "    while True:\r\n",
        "        if not frontier:\r\n",
        "            return []  # infeasible\r\n",
        "        current_state = heapq.heappop(frontier)\r\n",
        "        if current_state.point == target:\r\n",
        "            return reconstruct_path(current_state)\r\n",
        "        moves = possible_moves(current_state)\r\n",
        "        for move in moves:\r\n",
        "            tentative_score = g_score.get(current_state, 1_000_000) + (move.time - current_state.time)\r\n",
        "            if tentative_score < g_score.get(move, 1_000_000):\r\n",
        "                previous_points[move] = current_state\r\n",
        "                g_score[move] = tentative_score\r\n",
        "                heapq.heappush(frontier, move)\r\n",
        "\r\n",
        "\r\n",
        "t0 = time.time()\r\n",
        "s, e, b, w, h = read_input_file(\"day24/input.txt\")\r\n",
        "leg_1 = a_star_search(start=s, target=e, blizzards=b, width=w, height=h)\r\n",
        "if leg_1:\r\n",
        "    print(f\"Fastest time to reach the goal: {leg_1[0].time} mins.\")\r\n",
        "    leg_2 = a_star_search(start=e, target=s, blizzards=b, width=w, height=h, start_time=leg_1[0].time)\r\n",
        "    assert len(leg_2) > 0\r\n",
        "    leg_3 = a_star_search(start=s, target=e, blizzards=b, width=w, height=h, start_time=leg_2[0].time)\r\n",
        "    assert len(leg_3) > 0\r\n",
        "    print(f\"Fastest time to reach the goal, then go back to the start and to the goal again: {leg_3[0].time} mins.\")\r\n",
        "else:\r\n",
        "    print(\"Problem is infeasible.\")\r\n",
        "print(f\"Solve completed in {round(time.time() - t0, 2)} seconds.\")"
      ],
      "outputs": [
        {
          "output_type": "stream",
          "name": "stdout",
          "text": "Fastest time to reach the goal: 332 mins.\nFastest time to reach the goal, then go back to the start and to the goal again: 942 mins.\nSolve completed in 8.43 seconds.\n"
        }
      ],
      "execution_count": 1,
      "metadata": {
        "jupyter": {
          "source_hidden": false,
          "outputs_hidden": false
        },
        "nteract": {
          "transient": {
            "deleting": false
          }
        },
        "gather": {
          "logged": 1672693426307
        }
      }
    },
    {
      "cell_type": "code",
      "source": [
        "actions =['wait', 'wait', 'wait', 'wait', 'down', 'down', 'wait', 'wait', 'wait', 'down', 'down', 'right', 'right', 'down', 'right', 'wait', 'wait', 'right', 'wait', 'up', 'up', 'down', 'wait', 'down', 'right', 'down', 'down', 'right', 'right', 'right', 'wait', 'up', 'right', 'wait', 'up', 'right', 'down', 'right', 'up', 'down', 'down', 'right', 'right', 'wait', 'wait', 'up', 'down', 'down', 'down', 'down', 'left', 'wait', 'wait', 'right', 'right', 'right', 'right', 'right', 'right', 'wait', 'down', 'down', 'right', 'right', 'wait', 'wait', 'up', 'right', 'right', 'right', 'wait', 'up', 'wait', 'wait', 'wait', 'wait', 'up', 'down', 'right', 'right', 'right', 'right', 'right', 'up', 'up', 'right', 'down', 'right', 'right', 'wait', 'left', 'right', 'right', 'right', 'up', 'up', 'right', 'up', 'right', 'right', 'right', 'right', 'right', 'right', 'right', 'right', 'wait', 'up', 'left', 'down', 'right', 'right', 'down', 'right', 'down', 'wait', 'wait', 'wait', 'right', 'right', 'right', 'up', 'right', 'right', 'right', 'down', 'right', 'right', 'wait', 'up', 'right', 'right', 'right', 'up', 'right', 'up', 'right', 'wait', 'right', 'right', 'right', 'right', 'right', 'down', 'down', 'right', 'down', 'wait', 'up', 'right', 'right', 'right', 'down', 'right', 'right', 'wait', 'down', 'right', 'down', 'right', 'down', 'down', 'wait', 'wait', 'down', 'down', 'down', 'right', 'right', 'right', 'wait', 'wait', 'right', 'up', 'up', 'right', 'right', 'down', 'right', 'up', 'right', 'down', 'right', 'wait', 'wait', 'wait', 'down', 'down', 'right', 'right', 'right', 'up', 'right', 'down', 'right', 'up', 'right', 'right', 'wait', 'up', 'right', 'wait', 'left', 'right', 'up', 'up', 'down', 'right', 'right', 'up', 'right', 'right', 'right', 'right', 'down', 'right', 'down', 'down', 'right', 'down', 'up', 'wait', 'wait', 'down', 'down', 'wait', 'wait', 'wait', 'up', 'up', 'down', 'right', 'right', 'wait', 'right', 'right', 'wait', 'wait', 'wait', 'down', 'up', 'right', 'down', 'right', 'wait', 'wait', 'wait', 'wait', 'up', 'wait', 'up', 'right', 'right', 'wait', 'up', 'wait', 'up', 'left', 'down', 'wait', 'wait', 'up', 'right', 'right', 'right', 'right', 'down', 'right', 'wait', 'down', 'right', 'right', 'right', 'right', 'right', 'down', 'right', 'wait', 'wait', 'up', 'up', 'up', 'right', 'right', 'right', 'right', 'down', 'right', 'up', 'right', 'right', 'right', 'right', 'right', 'wait', 'up', 'wait', 'wait', 'wait', 'down', 'right', 'wait', 'wait', 'down', 'down', 'wait', 'down', 'right', 'wait', 'down', 'right', 'right', 'down', 'down', 'left', 'wait', 'right', 'wait', 'up', 'right', 'up', 'down', 'wait', 'down', 'down', 'right', 'right', 'right', 'right', 'up', 'wait', 'wait', 'wait', 'wait', 'up', 'up', 'right', 'right', 'wait', 'down', 'right', 'right', 'right', 'down', 'right', 'right', 'right', 'right', 'right', 'wait', 'left', 'right', 'down', 'right', 'wait', 'wait', 'right', 'up', 'right', 'right', 'up', 'down', 'right', 'down', 'right', 'right', 'down']\r\n",
        "\r\n",
        "env = Environment(file_path=\"day24/input.txt\")\r\n",
        "# env.printout()\r\n",
        "print()\r\n",
        "\r\n",
        "for action in actions:\r\n",
        "    # print(action)\r\n",
        "    # print(hash(str(env.get_data())))\r\n",
        "    env.step(action)\r\n",
        "    # env.printout()\r\n",
        "    # print()\r\n",
        "    if env.check_status() <0:\r\n",
        "        print(\"invalid\")\r\n",
        "    elif env.check_status()==1:\r\n",
        "        print(\"done!\")\r\n",
        "\r\n",
        "    \r\n",
        "    "
      ],
      "outputs": [
        {
          "output_type": "stream",
          "name": "stdout",
          "text": "\ndone!\n"
        }
      ],
      "execution_count": 23,
      "metadata": {
        "jupyter": {
          "source_hidden": false,
          "outputs_hidden": false
        },
        "nteract": {
          "transient": {
            "deleting": false
          }
        },
        "gather": {
          "logged": 1672690366833
        }
      }
    },
    {
      "cell_type": "code",
      "source": [],
      "outputs": [],
      "execution_count": null,
      "metadata": {
        "jupyter": {
          "source_hidden": false,
          "outputs_hidden": false
        },
        "nteract": {
          "transient": {
            "deleting": false
          }
        }
      }
    }
  ],
  "metadata": {
    "kernelspec": {
      "name": "python3",
      "language": "python",
      "display_name": "Python 3 (ipykernel)"
    },
    "language_info": {
      "name": "python",
      "version": "3.8.5",
      "mimetype": "text/x-python",
      "codemirror_mode": {
        "name": "ipython",
        "version": 3
      },
      "pygments_lexer": "ipython3",
      "nbconvert_exporter": "python",
      "file_extension": ".py"
    },
    "orig_nbformat": 4,
    "vscode": {
      "interpreter": {
        "hash": "29fdeb6da9c771b0c419c0f0b15c61c059001b11131a04f41678f9d7851d7690"
      }
    },
    "kernel_info": {
      "name": "python3"
    },
    "nteract": {
      "version": "nteract-front-end@1.0.0"
    }
  },
  "nbformat": 4,
  "nbformat_minor": 2
}